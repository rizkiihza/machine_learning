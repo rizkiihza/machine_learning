{
 "cells": [
  {
   "cell_type": "code",
   "execution_count": 1,
   "metadata": {},
   "outputs": [],
   "source": [
    "import pandas as pd\n",
    "import numpy as np\n",
    "from sklearn import datasets\n",
    "import seaborn as sns\n",
    "import matplotlib.pyplot as plt"
   ]
  },
  {
   "cell_type": "markdown",
   "metadata": {},
   "source": [
    "### Membuka Dataset iris dan tennis"
   ]
  },
  {
   "cell_type": "code",
   "execution_count": 2,
   "metadata": {},
   "outputs": [],
   "source": [
    "iris = datasets.load_iris()\n",
    "X_iris = iris.data\n",
    "y_iris = iris.target"
   ]
  },
  {
   "cell_type": "code",
   "execution_count": 3,
   "metadata": {},
   "outputs": [],
   "source": [
    "tennis = pd.read_csv('tennis.csv')\n",
    "X_tennis = tennis.drop(['play'], axis=1)\n",
    "y_tennis = tennis['play']"
   ]
  },
  {
   "cell_type": "markdown",
   "metadata": {},
   "source": [
    "### LabelEncoder untuk data tennis menjadi tipe integer"
   ]
  },
  {
   "cell_type": "code",
   "execution_count": 4,
   "metadata": {
    "scrolled": true
   },
   "outputs": [
    {
     "data": {
      "text/html": [
       "<div>\n",
       "<style scoped>\n",
       "    .dataframe tbody tr th:only-of-type {\n",
       "        vertical-align: middle;\n",
       "    }\n",
       "\n",
       "    .dataframe tbody tr th {\n",
       "        vertical-align: top;\n",
       "    }\n",
       "\n",
       "    .dataframe thead th {\n",
       "        text-align: right;\n",
       "    }\n",
       "</style>\n",
       "<table border=\"1\" class=\"dataframe\">\n",
       "  <thead>\n",
       "    <tr style=\"text-align: right;\">\n",
       "      <th></th>\n",
       "      <th>outlook</th>\n",
       "      <th>temp</th>\n",
       "      <th>humidity</th>\n",
       "      <th>windy</th>\n",
       "    </tr>\n",
       "  </thead>\n",
       "  <tbody>\n",
       "    <tr>\n",
       "      <th>0</th>\n",
       "      <td>sunny</td>\n",
       "      <td>hot</td>\n",
       "      <td>high</td>\n",
       "      <td>False</td>\n",
       "    </tr>\n",
       "    <tr>\n",
       "      <th>1</th>\n",
       "      <td>sunny</td>\n",
       "      <td>hot</td>\n",
       "      <td>high</td>\n",
       "      <td>True</td>\n",
       "    </tr>\n",
       "    <tr>\n",
       "      <th>2</th>\n",
       "      <td>overcast</td>\n",
       "      <td>hot</td>\n",
       "      <td>high</td>\n",
       "      <td>False</td>\n",
       "    </tr>\n",
       "    <tr>\n",
       "      <th>3</th>\n",
       "      <td>rainy</td>\n",
       "      <td>mild</td>\n",
       "      <td>high</td>\n",
       "      <td>False</td>\n",
       "    </tr>\n",
       "    <tr>\n",
       "      <th>4</th>\n",
       "      <td>rainy</td>\n",
       "      <td>cool</td>\n",
       "      <td>normal</td>\n",
       "      <td>False</td>\n",
       "    </tr>\n",
       "    <tr>\n",
       "      <th>5</th>\n",
       "      <td>rainy</td>\n",
       "      <td>cool</td>\n",
       "      <td>normal</td>\n",
       "      <td>True</td>\n",
       "    </tr>\n",
       "    <tr>\n",
       "      <th>6</th>\n",
       "      <td>overcast</td>\n",
       "      <td>cool</td>\n",
       "      <td>normal</td>\n",
       "      <td>True</td>\n",
       "    </tr>\n",
       "    <tr>\n",
       "      <th>7</th>\n",
       "      <td>sunny</td>\n",
       "      <td>mild</td>\n",
       "      <td>high</td>\n",
       "      <td>False</td>\n",
       "    </tr>\n",
       "    <tr>\n",
       "      <th>8</th>\n",
       "      <td>sunny</td>\n",
       "      <td>cool</td>\n",
       "      <td>normal</td>\n",
       "      <td>False</td>\n",
       "    </tr>\n",
       "    <tr>\n",
       "      <th>9</th>\n",
       "      <td>rainy</td>\n",
       "      <td>mild</td>\n",
       "      <td>normal</td>\n",
       "      <td>False</td>\n",
       "    </tr>\n",
       "    <tr>\n",
       "      <th>10</th>\n",
       "      <td>sunny</td>\n",
       "      <td>mild</td>\n",
       "      <td>normal</td>\n",
       "      <td>True</td>\n",
       "    </tr>\n",
       "    <tr>\n",
       "      <th>11</th>\n",
       "      <td>overcast</td>\n",
       "      <td>mild</td>\n",
       "      <td>high</td>\n",
       "      <td>True</td>\n",
       "    </tr>\n",
       "    <tr>\n",
       "      <th>12</th>\n",
       "      <td>overcast</td>\n",
       "      <td>hot</td>\n",
       "      <td>normal</td>\n",
       "      <td>False</td>\n",
       "    </tr>\n",
       "    <tr>\n",
       "      <th>13</th>\n",
       "      <td>rainy</td>\n",
       "      <td>mild</td>\n",
       "      <td>high</td>\n",
       "      <td>True</td>\n",
       "    </tr>\n",
       "  </tbody>\n",
       "</table>\n",
       "</div>"
      ],
      "text/plain": [
       "     outlook  temp humidity  windy\n",
       "0      sunny   hot     high  False\n",
       "1      sunny   hot     high   True\n",
       "2   overcast   hot     high  False\n",
       "3      rainy  mild     high  False\n",
       "4      rainy  cool   normal  False\n",
       "5      rainy  cool   normal   True\n",
       "6   overcast  cool   normal   True\n",
       "7      sunny  mild     high  False\n",
       "8      sunny  cool   normal  False\n",
       "9      rainy  mild   normal  False\n",
       "10     sunny  mild   normal   True\n",
       "11  overcast  mild     high   True\n",
       "12  overcast   hot   normal  False\n",
       "13     rainy  mild     high   True"
      ]
     },
     "execution_count": 4,
     "metadata": {},
     "output_type": "execute_result"
    }
   ],
   "source": [
    "X_tennis"
   ]
  },
  {
   "cell_type": "code",
   "execution_count": 5,
   "metadata": {
    "code_folding": [],
    "scrolled": true
   },
   "outputs": [],
   "source": [
    "outlook = []\n",
    "temp = []\n",
    "humidity = []\n",
    "wind = []\n",
    "for i in range(len(X_tennis)):\n",
    "    if(X_tennis['outlook'][i] == 'rainy'):\n",
    "        outlook.append(0)\n",
    "    elif(X_tennis['outlook'][i] == 'overcast'):\n",
    "        outlook.append(1)\n",
    "    elif(X_tennis['outlook'][i] == 'sunny'):\n",
    "        outlook.append(2)\n",
    "    if(X_tennis['temp'][i] == 'cool'):\n",
    "        temp.append(0)\n",
    "    elif(X_tennis['temp'][i] == 'mild'):\n",
    "        temp.append(1)\n",
    "    elif(X_tennis['temp'][i] == 'hot'):\n",
    "        temp.append(2)\n",
    "    if(X_tennis['humidity'][i] == 'normal'):\n",
    "        humidity.append(0)\n",
    "    elif(X_tennis['humidity'][i] == 'high'):\n",
    "        humidity.append(1)\n",
    "    if(not X_tennis['windy'][i]):\n",
    "        wind.append(0)\n",
    "    elif(X_tennis['windy'][i]):\n",
    "        wind.append(1)\n",
    "        \n",
    "X_tennis['outlook'] = outlook\n",
    "X_tennis['temp'] = temp\n",
    "X_tennis['humidity'] = humidity\n",
    "X_tennis['windy'] = wind"
   ]
  },
  {
   "cell_type": "code",
   "execution_count": 6,
   "metadata": {},
   "outputs": [
    {
     "data": {
      "text/html": [
       "<div>\n",
       "<style scoped>\n",
       "    .dataframe tbody tr th:only-of-type {\n",
       "        vertical-align: middle;\n",
       "    }\n",
       "\n",
       "    .dataframe tbody tr th {\n",
       "        vertical-align: top;\n",
       "    }\n",
       "\n",
       "    .dataframe thead th {\n",
       "        text-align: right;\n",
       "    }\n",
       "</style>\n",
       "<table border=\"1\" class=\"dataframe\">\n",
       "  <thead>\n",
       "    <tr style=\"text-align: right;\">\n",
       "      <th></th>\n",
       "      <th>outlook</th>\n",
       "      <th>temp</th>\n",
       "      <th>humidity</th>\n",
       "      <th>windy</th>\n",
       "    </tr>\n",
       "  </thead>\n",
       "  <tbody>\n",
       "    <tr>\n",
       "      <th>0</th>\n",
       "      <td>2</td>\n",
       "      <td>2</td>\n",
       "      <td>1</td>\n",
       "      <td>0</td>\n",
       "    </tr>\n",
       "    <tr>\n",
       "      <th>1</th>\n",
       "      <td>2</td>\n",
       "      <td>2</td>\n",
       "      <td>1</td>\n",
       "      <td>1</td>\n",
       "    </tr>\n",
       "    <tr>\n",
       "      <th>2</th>\n",
       "      <td>1</td>\n",
       "      <td>2</td>\n",
       "      <td>1</td>\n",
       "      <td>0</td>\n",
       "    </tr>\n",
       "    <tr>\n",
       "      <th>3</th>\n",
       "      <td>0</td>\n",
       "      <td>1</td>\n",
       "      <td>1</td>\n",
       "      <td>0</td>\n",
       "    </tr>\n",
       "    <tr>\n",
       "      <th>4</th>\n",
       "      <td>0</td>\n",
       "      <td>0</td>\n",
       "      <td>0</td>\n",
       "      <td>0</td>\n",
       "    </tr>\n",
       "    <tr>\n",
       "      <th>5</th>\n",
       "      <td>0</td>\n",
       "      <td>0</td>\n",
       "      <td>0</td>\n",
       "      <td>1</td>\n",
       "    </tr>\n",
       "    <tr>\n",
       "      <th>6</th>\n",
       "      <td>1</td>\n",
       "      <td>0</td>\n",
       "      <td>0</td>\n",
       "      <td>1</td>\n",
       "    </tr>\n",
       "    <tr>\n",
       "      <th>7</th>\n",
       "      <td>2</td>\n",
       "      <td>1</td>\n",
       "      <td>1</td>\n",
       "      <td>0</td>\n",
       "    </tr>\n",
       "    <tr>\n",
       "      <th>8</th>\n",
       "      <td>2</td>\n",
       "      <td>0</td>\n",
       "      <td>0</td>\n",
       "      <td>0</td>\n",
       "    </tr>\n",
       "    <tr>\n",
       "      <th>9</th>\n",
       "      <td>0</td>\n",
       "      <td>1</td>\n",
       "      <td>0</td>\n",
       "      <td>0</td>\n",
       "    </tr>\n",
       "    <tr>\n",
       "      <th>10</th>\n",
       "      <td>2</td>\n",
       "      <td>1</td>\n",
       "      <td>0</td>\n",
       "      <td>1</td>\n",
       "    </tr>\n",
       "    <tr>\n",
       "      <th>11</th>\n",
       "      <td>1</td>\n",
       "      <td>1</td>\n",
       "      <td>1</td>\n",
       "      <td>1</td>\n",
       "    </tr>\n",
       "    <tr>\n",
       "      <th>12</th>\n",
       "      <td>1</td>\n",
       "      <td>2</td>\n",
       "      <td>0</td>\n",
       "      <td>0</td>\n",
       "    </tr>\n",
       "    <tr>\n",
       "      <th>13</th>\n",
       "      <td>0</td>\n",
       "      <td>1</td>\n",
       "      <td>1</td>\n",
       "      <td>1</td>\n",
       "    </tr>\n",
       "  </tbody>\n",
       "</table>\n",
       "</div>"
      ],
      "text/plain": [
       "    outlook  temp  humidity  windy\n",
       "0         2     2         1      0\n",
       "1         2     2         1      1\n",
       "2         1     2         1      0\n",
       "3         0     1         1      0\n",
       "4         0     0         0      0\n",
       "5         0     0         0      1\n",
       "6         1     0         0      1\n",
       "7         2     1         1      0\n",
       "8         2     0         0      0\n",
       "9         0     1         0      0\n",
       "10        2     1         0      1\n",
       "11        1     1         1      1\n",
       "12        1     2         0      0\n",
       "13        0     1         1      1"
      ]
     },
     "execution_count": 6,
     "metadata": {},
     "output_type": "execute_result"
    }
   ],
   "source": [
    "X_tennis"
   ]
  },
  {
   "cell_type": "markdown",
   "metadata": {},
   "source": [
    "### Eksplorasi scikit learn Kmeans, Agglomerative Clustering, DBSCAN, Gaussian Mixtures"
   ]
  },
  {
   "cell_type": "code",
   "execution_count": 7,
   "metadata": {
    "scrolled": true
   },
   "outputs": [],
   "source": [
    "from sklearn.cluster import KMeans\n",
    "from sklearn.cluster import AgglomerativeClustering\n",
    "from sklearn.cluster import DBSCAN\n",
    "from sklearn.mixture import GaussianMixture"
   ]
  },
  {
   "cell_type": "markdown",
   "metadata": {},
   "source": [
    "#### KMeans\n",
    "Parameter pada KMeans: <br><br>\n",
    "n_clusters = jumlah cluster ingin dicari<br>\n",
    "init<br>\n",
    "n_init<br>\n",
    "max_iter<br>\n",
    "tol<br>\n",
    "precompute_distances<br>\n",
    "verbose<br>\n",
    "random_state<br>\n",
    "copy_x<br>\n",
    "n_jobs<br>\n",
    "algorithm<br>"
   ]
  },
  {
   "cell_type": "code",
   "execution_count": 8,
   "metadata": {},
   "outputs": [
    {
     "name": "stdout",
     "output_type": "stream",
     "text": [
      "pusat cluster kMeans iris :\n",
      "[[5.9016129  2.7483871  4.39354839 1.43387097]\n",
      " [5.006      3.418      1.464      0.244     ]\n",
      " [6.85       3.07368421 5.74210526 2.07105263]]\n",
      "pusat cluster kMeans tennis :\n",
      "[[1.625      1.375      0.625      0.375     ]\n",
      " [0.16666667 0.5        0.33333333 0.5       ]]\n"
     ]
    }
   ],
   "source": [
    "k_means_iris = KMeans(n_clusters=3, random_state=42)\n",
    "k_means_iris.fit(X_iris)\n",
    "print('pusat cluster kMeans iris :')\n",
    "print(k_means_iris.cluster_centers_)\n",
    "\n",
    "k_means_tennis = KMeans(n_clusters=2, random_state=42)\n",
    "k_means_tennis.fit(X_tennis)\n",
    "print('pusat cluster kMeans tennis :')\n",
    "print(k_means_tennis.cluster_centers_)"
   ]
  },
  {
   "cell_type": "markdown",
   "metadata": {},
   "source": [
    "#### Agglomerative Clustering\n",
    "Parameter pada Agglomerative Clustering: <br><br>\n",
    "n_clusters = jumlah cluster yang ingin dicari<br>\n",
    "affinity <br>\n",
    "memory <br>\n",
    "connectivity <br>\n",
    "compute_full_tree <br>\n",
    "linkage <br>\n",
    "pooling_func <br>"
   ]
  },
  {
   "cell_type": "code",
   "execution_count": 9,
   "metadata": {},
   "outputs": [
    {
     "data": {
      "text/plain": [
       "array([1, 1, 0, 0, 0, 0, 0, 1, 0, 0, 0, 1, 0, 1], dtype=int64)"
      ]
     },
     "execution_count": 9,
     "metadata": {},
     "output_type": "execute_result"
    }
   ],
   "source": [
    "agglo_iris = AgglomerativeClustering(n_clusters=3, affinity='manhattan', linkage='complete')\n",
    "agglo_iris.fit(X_iris)\n",
    "\n",
    "agglo_tennis = AgglomerativeClustering(n_clusters=2, affinity='manhattan', linkage='complete')\n",
    "agglo_tennis.fit(X_tennis)\n",
    "\n",
    "agglo_iris.labels_\n",
    "agglo_tennis.labels_"
   ]
  },
  {
   "cell_type": "markdown",
   "metadata": {},
   "source": [
    "#### DBSCAN\n",
    "Parameter pada DBSCAN: <br><br>\n",
    "eps = jarak ketetanggaan maksimal dua sampel <br>\n",
    "min_samples <br>\n",
    "metric <br>\n",
    "metric_params <br>\n",
    "algorithm <br>\n",
    "leaf_size <br>\n",
    "p <br>\n",
    "n_jobs <br>"
   ]
  },
  {
   "cell_type": "code",
   "execution_count": 10,
   "metadata": {},
   "outputs": [
    {
     "data": {
      "text/plain": [
       "array([-1, -1, -1, -1, -1, -1, -1, -1, -1, -1, -1, -1, -1, -1],\n",
       "      dtype=int64)"
      ]
     },
     "execution_count": 10,
     "metadata": {},
     "output_type": "execute_result"
    }
   ],
   "source": [
    "dbscan_iris = DBSCAN(eps=1, metric='manhattan')\n",
    "dbscan_iris.fit(X_iris)\n",
    "\n",
    "dbscan_tennis = DBSCAN(eps=1, metric='manhattan')\n",
    "dbscan_tennis.fit(X_tennis)\n",
    "\n",
    "dbscan_iris.labels_\n",
    "dbscan_tennis.labels_"
   ]
  },
  {
   "cell_type": "markdown",
   "metadata": {},
   "source": [
    "#### Gaussian Mixture\n",
    "Parameter pada Gaussian Mixture: <br><br>\n",
    "n_components = jumlah komponen mixture <br>\n",
    "covariance_type <br>\n",
    "tol <br>\n",
    "reg_covar <br>\n",
    "max_iter <br>\n",
    "n_init <br>\n",
    "init_params <br>\n",
    "weights_init <br>\n",
    "means_init <br>\n",
    "precisions_init <br>\n",
    "random_state <br>\n",
    "warm_start <br>\n",
    "verbose <br>\n",
    "verbose_interval <br>"
   ]
  },
  {
   "cell_type": "code",
   "execution_count": 11,
   "metadata": {},
   "outputs": [
    {
     "data": {
      "text/plain": [
       "array([0.49983298, 0.50016702])"
      ]
     },
     "execution_count": 11,
     "metadata": {},
     "output_type": "execute_result"
    }
   ],
   "source": [
    "gaussian_mix_iris = GaussianMixture(n_components=3)\n",
    "gaussian_mix_iris.fit(X_iris)\n",
    "\n",
    "gaussian_mix_tennis = GaussianMixture(n_components=2)\n",
    "gaussian_mix_tennis.fit(X_tennis)\n",
    "\n",
    "gaussian_mix_iris.weights_\n",
    "gaussian_mix_tennis.weights_"
   ]
  },
  {
   "cell_type": "markdown",
   "metadata": {},
   "source": [
    "### Eksplorasi k-medoids (PAM), Graph-based clustering (MST), grid clustering (BASE)"
   ]
  },
  {
   "cell_type": "code",
   "execution_count": 12,
   "metadata": {},
   "outputs": [],
   "source": [
    "from pyclustering.cluster.kmedoids import kmedoids\n",
    "from pyclustering.utils import read_sample\n",
    "from pyclustering.utils import timedcall\n",
    "from mst_clustering import MSTClustering\n",
    "from pyclustering.cluster.bang import bang, bang_visualizer"
   ]
  },
  {
   "cell_type": "markdown",
   "metadata": {},
   "source": [
    "#### KMedoids"
   ]
  },
  {
   "cell_type": "code",
   "execution_count": 13,
   "metadata": {
    "scrolled": true
   },
   "outputs": [],
   "source": [
    "kmedoids_iris = kmedoids(X_iris, [1, 90, 120], ccore=False)\n",
    "kmedoids_iris.process()\n",
    "\n",
    "X_tennis_array = X_tennis.values\n",
    "kmedoids_tennis = kmedoids(X_tennis_array, [0, 2], ccore=False)\n",
    "kmedoids_tennis.process()"
   ]
  },
  {
   "cell_type": "code",
   "execution_count": 14,
   "metadata": {},
   "outputs": [
    {
     "data": {
      "text/plain": [
       "array([[2, 2, 1, 0],\n",
       "       [2, 2, 1, 1],\n",
       "       [1, 2, 1, 0],\n",
       "       [0, 1, 1, 0],\n",
       "       [0, 0, 0, 0],\n",
       "       [0, 0, 0, 1],\n",
       "       [1, 0, 0, 1],\n",
       "       [2, 1, 1, 0],\n",
       "       [2, 0, 0, 0],\n",
       "       [0, 1, 0, 0],\n",
       "       [2, 1, 0, 1],\n",
       "       [1, 1, 1, 1],\n",
       "       [1, 2, 0, 0],\n",
       "       [0, 1, 1, 1]], dtype=int64)"
      ]
     },
     "execution_count": 14,
     "metadata": {},
     "output_type": "execute_result"
    }
   ],
   "source": [
    "X_tennis_array"
   ]
  },
  {
   "cell_type": "code",
   "execution_count": 15,
   "metadata": {
    "scrolled": true
   },
   "outputs": [
    {
     "data": {
      "text/plain": [
       "[[7,\n",
       "  0,\n",
       "  1,\n",
       "  2,\n",
       "  3,\n",
       "  4,\n",
       "  5,\n",
       "  6,\n",
       "  8,\n",
       "  9,\n",
       "  10,\n",
       "  11,\n",
       "  12,\n",
       "  13,\n",
       "  14,\n",
       "  15,\n",
       "  16,\n",
       "  17,\n",
       "  18,\n",
       "  19,\n",
       "  20,\n",
       "  21,\n",
       "  22,\n",
       "  23,\n",
       "  24,\n",
       "  25,\n",
       "  26,\n",
       "  27,\n",
       "  28,\n",
       "  29,\n",
       "  30,\n",
       "  31,\n",
       "  32,\n",
       "  33,\n",
       "  34,\n",
       "  35,\n",
       "  36,\n",
       "  37,\n",
       "  38,\n",
       "  39,\n",
       "  40,\n",
       "  41,\n",
       "  42,\n",
       "  43,\n",
       "  44,\n",
       "  45,\n",
       "  46,\n",
       "  47,\n",
       "  48,\n",
       "  49],\n",
       " [55,\n",
       "  51,\n",
       "  53,\n",
       "  54,\n",
       "  56,\n",
       "  57,\n",
       "  58,\n",
       "  59,\n",
       "  60,\n",
       "  61,\n",
       "  62,\n",
       "  63,\n",
       "  64,\n",
       "  65,\n",
       "  66,\n",
       "  67,\n",
       "  68,\n",
       "  69,\n",
       "  70,\n",
       "  71,\n",
       "  72,\n",
       "  73,\n",
       "  74,\n",
       "  75,\n",
       "  78,\n",
       "  79,\n",
       "  80,\n",
       "  81,\n",
       "  82,\n",
       "  83,\n",
       "  84,\n",
       "  85,\n",
       "  87,\n",
       "  88,\n",
       "  89,\n",
       "  90,\n",
       "  91,\n",
       "  92,\n",
       "  93,\n",
       "  94,\n",
       "  95,\n",
       "  96,\n",
       "  97,\n",
       "  98,\n",
       "  99,\n",
       "  101,\n",
       "  106,\n",
       "  113,\n",
       "  119,\n",
       "  121,\n",
       "  123,\n",
       "  126,\n",
       "  127,\n",
       "  133,\n",
       "  138,\n",
       "  142,\n",
       "  149],\n",
       " [112,\n",
       "  50,\n",
       "  52,\n",
       "  76,\n",
       "  77,\n",
       "  86,\n",
       "  100,\n",
       "  102,\n",
       "  103,\n",
       "  104,\n",
       "  105,\n",
       "  107,\n",
       "  108,\n",
       "  109,\n",
       "  110,\n",
       "  111,\n",
       "  114,\n",
       "  115,\n",
       "  116,\n",
       "  117,\n",
       "  118,\n",
       "  120,\n",
       "  122,\n",
       "  124,\n",
       "  125,\n",
       "  128,\n",
       "  129,\n",
       "  130,\n",
       "  131,\n",
       "  132,\n",
       "  134,\n",
       "  135,\n",
       "  136,\n",
       "  137,\n",
       "  139,\n",
       "  140,\n",
       "  141,\n",
       "  143,\n",
       "  144,\n",
       "  145,\n",
       "  146,\n",
       "  147,\n",
       "  148]]"
      ]
     },
     "execution_count": 15,
     "metadata": {},
     "output_type": "execute_result"
    }
   ],
   "source": [
    "kmedoids_iris.get_clusters()"
   ]
  },
  {
   "cell_type": "markdown",
   "metadata": {},
   "source": [
    "#### MST"
   ]
  },
  {
   "cell_type": "code",
   "execution_count": 16,
   "metadata": {},
   "outputs": [
    {
     "data": {
      "text/plain": [
       "array([0, 0, 0, 0, 0, 0, 0, 0, 0, 0, 0, 0, 0, 0, 0, 0, 0, 0, 0, 0, 0, 0,\n",
       "       0, 0, 0, 0, 0, 0, 0, 0, 0, 0, 0, 0, 0, 0, 0, 0, 0, 0, 0, 0, 0, 0,\n",
       "       0, 0, 0, 0, 0, 0, 1, 1, 1, 1, 1, 1, 1, 1, 1, 1, 1, 1, 1, 1, 1, 1,\n",
       "       1, 1, 1, 1, 1, 1, 1, 1, 1, 1, 1, 1, 1, 1, 1, 1, 1, 1, 1, 1, 1, 1,\n",
       "       1, 1, 1, 1, 1, 1, 1, 1, 1, 1, 1, 1, 1, 1, 1, 1, 1, 1, 1, 1, 1, 1,\n",
       "       1, 1, 1, 1, 1, 1, 1, 1, 1, 1, 1, 1, 1, 1, 1, 1, 1, 1, 1, 1, 1, 1,\n",
       "       1, 1, 1, 1, 1, 1, 1, 1, 1, 1, 1, 1, 1, 1, 1, 1, 1, 1])"
      ]
     },
     "execution_count": 16,
     "metadata": {},
     "output_type": "execute_result"
    }
   ],
   "source": [
    "mst_iris = MSTClustering(cutoff_scale=2)\n",
    "mst_iris.fit(X_iris)\n",
    "\n",
    "mst_tennis = MSTClustering(cutoff_scale=2)\n",
    "mst_tennis.fit(X_tennis)\n",
    "\n",
    "mst_iris.labels_"
   ]
  },
  {
   "cell_type": "markdown",
   "metadata": {},
   "source": [
    "#### BANG"
   ]
  },
  {
   "cell_type": "code",
   "execution_count": 17,
   "metadata": {},
   "outputs": [
    {
     "name": "stderr",
     "output_type": "stream",
     "text": [
      "c:\\python36\\lib\\site-packages\\pyclustering\\cluster\\bang.py:629: RuntimeWarning: divide by zero encountered in double_scalars\n",
      "  return self.__get_amount_points() / self.__spatial_block.get_volume()\n",
      "c:\\python36\\lib\\site-packages\\pyclustering\\cluster\\bang.py:629: RuntimeWarning: divide by zero encountered in longlong_scalars\n",
      "  return self.__get_amount_points() / self.__spatial_block.get_volume()\n"
     ]
    }
   ],
   "source": [
    "levels = 11\n",
    "\n",
    "bang_iris = bang(X_iris, levels)\n",
    "bang_iris.process()\n",
    "\n",
    "\n",
    "bang_tennis = bang(X_tennis_array, levels)\n",
    "bang_tennis.process()"
   ]
  },
  {
   "cell_type": "code",
   "execution_count": 18,
   "metadata": {},
   "outputs": [
    {
     "name": "stdout",
     "output_type": "stream",
     "text": [
      "[[0, 149]]\n"
     ]
    }
   ],
   "source": [
    "clusters = bang_iris.get_clusters()\n",
    "noise = bang_iris.get_noise()\n",
    "directory = bang_iris.get_directory()\n",
    "dendrogram = bang_iris.get_dendrogram()\n",
    "print(clusters)"
   ]
  },
  {
   "cell_type": "code",
   "execution_count": null,
   "metadata": {},
   "outputs": [
    {
     "name": "stderr",
     "output_type": "stream",
     "text": [
      "c:\\python36\\lib\\site-packages\\pyclustering\\cluster\\bang.py:183: RuntimeWarning: invalid value encountered in double_scalars\n",
      "  density_scale = bang_visualizer.__maximum_density_alpha * block.get_density() / density_scale\n"
     ]
    }
   ],
   "source": [
    "bang_visualizer.show_blocks(directory)\n",
    "bang_visualizer.show_dendrogram(dendrogram)\n",
    "bang_visualizer.show_clusters(X_iris, clusters, noise)"
   ]
  },
  {
   "cell_type": "code",
   "execution_count": null,
   "metadata": {},
   "outputs": [],
   "source": []
  }
 ],
 "metadata": {
  "kernelspec": {
   "display_name": "Python 3",
   "language": "python",
   "name": "python3"
  },
  "language_info": {
   "codemirror_mode": {
    "name": "ipython",
    "version": 3
   },
   "file_extension": ".py",
   "mimetype": "text/x-python",
   "name": "python",
   "nbconvert_exporter": "python",
   "pygments_lexer": "ipython3",
   "version": "3.6.4"
  }
 },
 "nbformat": 4,
 "nbformat_minor": 2
}
